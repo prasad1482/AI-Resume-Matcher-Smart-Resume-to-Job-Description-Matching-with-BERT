{
  "nbformat": 4,
  "nbformat_minor": 0,
  "metadata": {
    "colab": {
      "provenance": [],
      "authorship_tag": "ABX9TyNVZ4I9hXU/W7Jv8QLAulzD",
      "include_colab_link": true
    },
    "kernelspec": {
      "name": "python3",
      "display_name": "Python 3"
    },
    "language_info": {
      "name": "python"
    }
  },
  "cells": [
    {
      "cell_type": "markdown",
      "metadata": {
        "id": "view-in-github",
        "colab_type": "text"
      },
      "source": [
        "<a href=\"https://colab.research.google.com/github/prasad1482/AI-Resume-Matcher-Smart-Resume-to-Job-Description-Matching-with-BERT/blob/main/preprocessing_AI_resume_matcher.ipynb\" target=\"_parent\"><img src=\"https://colab.research.google.com/assets/colab-badge.svg\" alt=\"Open In Colab\"/></a>"
      ]
    },
    {
      "cell_type": "code",
      "execution_count": null,
      "metadata": {
        "id": "GPipPKsNtLjB"
      },
      "outputs": [],
      "source": []
    }
  ]
}